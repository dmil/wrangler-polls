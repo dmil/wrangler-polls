{
 "cells": [
  {
   "cell_type": "markdown",
   "metadata": {},
   "source": [
    "# Installation & Setup"
   ]
  },
  {
   "cell_type": "markdown",
   "metadata": {},
   "source": [
    "Install some python packages"
   ]
  },
  {
   "cell_type": "code",
   "execution_count": null,
   "metadata": {},
   "outputs": [],
   "source": [
    "%pip install us\n",
    "%pip install matplotlib\n",
    "%pip install numpy\n",
    "%pip install pandas\n",
    "%pip install plotnine"
   ]
  },
  {
   "cell_type": "markdown",
   "metadata": {},
   "source": [
    "Import those packages"
   ]
  },
  {
   "cell_type": "code",
   "execution_count": null,
   "metadata": {},
   "outputs": [],
   "source": [
    "# Inline Chart Parameters\n",
    "%matplotlib inline\n",
    "\n",
    "from matplotlib import rcParams\n",
    "rcParams['figure.figsize'] = (16, 9)\n",
    "\n",
    "# Ignore Warnings\n",
    "import warnings\n",
    "warnings.filterwarnings('ignore')\n",
    "\n",
    "# Python Imports\n",
    "import pandas as pd\n",
    "import numpy as np\n",
    "import us\n",
    "from datetime import datetime, timedelta\n",
    "from plotnine import *\n",
    "\n",
    "# Display all columns on tables\n",
    "pd.set_option('display.max_columns', None)"
   ]
  },
  {
   "cell_type": "code",
   "execution_count": null,
   "metadata": {},
   "outputs": [],
   "source": [
    "# Download some data\n",
    "pd.read_csv(\"https://raw.githubusercontent.com/fivethirtyeight/data/master/pollster-ratings/raw-polls.csv\")\\\n",
    "  .to_csv('raw-polls.csv', index=False)\n",
    "\n",
    "# Download some data\n",
    "pd.read_csv(\"https://raw.githubusercontent.com/fivethirtyeight/data/master/pollster-ratings/pollster-ratings.csv\")\\\n",
    "  .to_csv('pollster-ratings.csv', index=False)"
   ]
  },
  {
   "cell_type": "markdown",
   "metadata": {},
   "source": [
    "# Thinking About An Upcoming Election\n",
    "\n",
    "Can we trust the polls? And if so...how much?\n",
    "\n",
    "Let's see how polls have been doing so far!\n",
    "\n",
    "## Getting some data\n",
    "\n",
    "Today we'll be working with data from [FiveThirtyEight's Pollster Ratings project](http://projects.fivethirtyeight.com/pollster-ratings/). \n",
    "\n",
    "This data contains:\n",
    "* Every poll that FiveThirtyEight has collected in the last 21 days prior to general election (pres, senate, house, governor) or presidential primary.\n",
    "* And... results for those elections!"
   ]
  },
  {
   "cell_type": "code",
   "execution_count": null,
   "metadata": {},
   "outputs": [],
   "source": [
    "# Load some data into variables\n",
    "polls = pd.read_csv('raw-polls.csv')\n",
    "\n",
    "# Reverses some values so that Democratic is on the left (-) and Republican is on the right (+)\n",
    "polls['margin_poll'] = -polls['margin_poll']\n",
    "polls['margin_actual'] = -polls['margin_actual']\n",
    "polls['bias'] = -polls['bias']\n",
    "polls['bias_overestimate'] = polls.bias.apply(lambda x: 'overestimates democrat' if x < 0 else 'overestimates republican')\n",
    "polls['bias_overestimate'] = pd.Categorical(polls['bias_overestimate'], categories=['overestimates republican','overestimates democrat'])\n",
    "\n",
    "# Create a variable to distinguish national vs state polls and for winner party\n",
    "polls['national'] = polls.location.apply(lambda x: 'national' if x == 'US' else 'state')\n",
    "polls['winner_party'] = polls.margin_actual.apply(lambda x: 'D' if x < 0 else 'R')\n",
    "polls['winner_party'] = pd.Categorical(polls['winner_party'], categories=['R','D'])\n",
    "\n",
    "polls.tail(2)"
   ]
  },
  {
   "cell_type": "markdown",
   "metadata": {},
   "source": [
    "## Nationwide Presidential Polls\n",
    "\n",
    "Lets look at polls of the Nationwide popular vote. First, an exploratory visualization."
   ]
  },
  {
   "cell_type": "code",
   "execution_count": null,
   "metadata": {},
   "outputs": [],
   "source": [
    "# Get all NATIONAL-level presidential polls\n",
    "polls_to_analyze = polls.query(\"type_detail=='Pres-G' and location=='US'\")\n",
    "\n",
    "# Display 3 random polls\n",
    "polls_to_analyze.sample(3)"
   ]
  },
  {
   "cell_type": "code",
   "execution_count": null,
   "metadata": {},
   "outputs": [],
   "source": [
    "(\n",
    "    ggplot(polls_to_analyze, aes(x='margin_poll', y='year'))\n",
    "     + geom_point(size=4, alpha=.2)\n",
    "     + geom_point(aes(x='margin_actual', color=\"winner_party\"), size=8)\n",
    "     + geom_vline(aes(xintercept=0))\n",
    "     + scale_y_continuous(breaks=list(range(2000,2024,4)), \n",
    "                          labels=list(reversed(['Biden (2020)', 'Trump (2016)', 'Obama (2012)', 'Obama (2008)', 'Bush (2004)', 'Bush (2000)'])))\n",
    "     + theme_xkcd()\n",
    "     + theme(figure_size=(16, 4)) \n",
    "     + labs(title='Presidential Polling (NATIONAL level)')\n",
    ")"
   ]
  },
  {
   "cell_type": "code",
   "execution_count": null,
   "metadata": {},
   "outputs": [],
   "source": [
    "# Plotting \"bias\" rather than margin, since we care about how far off the poll was from the actual result\n",
    "(\n",
    "    ggplot(polls_to_analyze, aes(x='bias', y='year'))\n",
    "     + geom_point(size=4, alpha=.2)\n",
    "     + geom_point(aes(x=0, color=\"winner_party\"), size=8)\n",
    "     + geom_vline(aes(xintercept=0))\n",
    "     + scale_y_continuous(breaks=list(range(2000,2024,4)), \n",
    "                          labels=list(reversed(['Biden (2020)', 'Trump (2016)', 'Obama (2012)', 'Obama (2008)', 'Bush (2004)', 'Bush (2000)'])))\n",
    "     + theme_xkcd()\n",
    "     + theme(figure_size=(16, 4)) \n",
    "     + labs(title='Presidential Polling \"Bias\" (NATIONAL level)\\n <---- Overestimates Democrat                                                                                                       Overestimates Republican---->')\n",
    "\n",
    ")"
   ]
  },
  {
   "cell_type": "markdown",
   "metadata": {},
   "source": [
    "### What do you notice about this chart?"
   ]
  },
  {
   "cell_type": "code",
   "execution_count": null,
   "metadata": {},
   "outputs": [],
   "source": [
    "# Here is another view\n",
    "(\n",
    "    ggplot(polls_to_analyze, aes(x='bias', fill='bias_overestimate'))\n",
    "     + geom_histogram()\n",
    "     + geom_vline(aes(xintercept=0))\n",
    "     + theme_minimal()\n",
    "     + facet_wrap('~year')\n",
    "     + theme(figure_size=(16, 8)) \n",
    "     + labs(title='Presidential Polling \"Bias\" (NATIONAL level)\\n <---- Overestimates Democrat                                                                                                       Overestimates Republican---->')\n",
    "\n",
    ")"
   ]
  },
  {
   "cell_type": "markdown",
   "metadata": {},
   "source": [
    "### What have we noticed about the presidential polls at the national level?\n",
    "\n",
    "<details><summary> ---> DON'T CLICK ME </summary>\n",
    "<p>\n",
    "\n",
    "* Even if MoE Is +/-3 for example, in practice there are other sources of error. Histoircally polls have been more like +/-5 pts on average.\n",
    "* Polls sometimes miss in the same direction in any given year.\n",
    "```\n",
    "\n",
    "</p>\n",
    "</details>\n",
    "\n",
    "### How might this impact how you report on a new poll that comes out?\n",
    "\n",
    "\n",
    "\n",
    "<details><summary> ---> DON'T CLICK ME </summary>\n",
    "<p>\n",
    "\n",
    "* Place individual polls in their aggregate context\n",
    "* Convey uncertainty appropriately\n",
    "\n",
    "</p>\n",
    "</details>"
   ]
  },
  {
   "cell_type": "markdown",
   "metadata": {},
   "source": [
    "## But, we don't have one Presidential election in the U.S. ... \n",
    "...we have 50 separate ones (plus DC and some quirks in Maine and Nebraska). And the nationwide polls can only tell us so much about who might win the election. So what about state polling? Has it been getting better or worse over the years? Can we still rely on it this coming election cycle? \n"
   ]
  },
  {
   "cell_type": "code",
   "execution_count": null,
   "metadata": {},
   "outputs": [],
   "source": [
    "# A quick look at the polls dataframe\n",
    "presidential_state_level_polls = polls.query(\"type_detail=='Pres-G' and location!='US'\")\n",
    "presidential_state_level_polls.head(2)"
   ]
  },
  {
   "cell_type": "code",
   "execution_count": null,
   "metadata": {
    "scrolled": false
   },
   "outputs": [],
   "source": [
    "(\n",
    "    ggplot(presidential_state_level_polls\n",
    "           , aes(x='bias', y='year', color='bias<0'))\n",
    "     + geom_point(size=4, alpha=.2)\n",
    "     + geom_vline(aes(xintercept=0))\n",
    "     + theme_minimal()\n",
    "     + scale_y_continuous(breaks=list(range(2000,2024,4)))\n",
    "     + facet_wrap('~location')\n",
    "     + theme(figure_size=(16, 16)) \n",
    "         + labs(title='Presidential Polling \"Bias\" (STATE level)\\n <---- Overestimates Democrat                                                                                                       Overestimates Republican---->')\n",
    "\n",
    ")"
   ]
  },
  {
   "cell_type": "markdown",
   "metadata": {},
   "source": [
    "### What have we noticed about the presidential polls at the state level compared to the national level?\n",
    "\n",
    "<details><summary> ---> DON'T CLICK ME </summary>\n",
    "<p>\n",
    "\n",
    "* State level polls seem less accurate than national polls\n",
    "* Some states have a lot more polling than others\n",
    "* Polling in Hawaii is historically super inaccurate\n",
    "* State level polling errors are correlated in any given year\n",
    "```\n",
    "\n",
    "</p>\n",
    "</details>\n"
   ]
  },
  {
   "cell_type": "code",
   "execution_count": null,
   "metadata": {},
   "outputs": [],
   "source": [
    "presidential_state_level_polls[['year', 'location', 'pollster', 'bias', 'error']]\\\n",
    "    .groupby('year').mean().round(2)"
   ]
  },
  {
   "cell_type": "code",
   "execution_count": null,
   "metadata": {},
   "outputs": [],
   "source": [
    "# state-level presidential polls over the years\n",
    "polls_to_analyze = polls.query(\"type_detail=='Pres-G'\")\n",
    "\n",
    "(\n",
    "    ggplot(polls_to_analyze, aes(x='bias', fill='bias<0'))\n",
    "     + geom_histogram()\n",
    "     + geom_vline(aes(xintercept=0))\n",
    "     + theme_minimal()\n",
    "     + facet_grid('national~year', scales='free_y')\n",
    "     + theme(figure_size=(16, 4)) \n",
    "     + labs(title='Presidential Polling \"Bias\" (national vs state level)')\n",
    "\n",
    ")"
   ]
  },
  {
   "cell_type": "markdown",
   "metadata": {},
   "source": [
    "## What about polling in primary elections?"
   ]
  },
  {
   "cell_type": "code",
   "execution_count": null,
   "metadata": {},
   "outputs": [],
   "source": [
    "# Primary and general elections\n",
    "polls_to_analyze = polls.query(\"type_detail.isin(['Pres-G', 'Pres-R', 'Pres-D']) and error.notna()\")\n",
    "polls_to_analyze = polls_to_analyze.query(\"national=='state'\")\n",
    "\n",
    "# polls_to_analyze = polls_to_analyze.query(\"location.isin(@swing_states_2020)\")\n",
    "display(\n",
    "    ggplot(polls_to_analyze, aes(x='error'))\n",
    "     + geom_histogram()\n",
    "     + theme_minimal()\n",
    "     + facet_grid('type_detail~year', scales='free_y')\n",
    "     + theme(figure_size=(16, 4)) \n",
    "     + labs(title='Presidential Polling \"Bias\" (STATE level)')\n",
    "\n",
    ")\n",
    "\n",
    "display(\n",
    "    polls_to_analyze.pivot_table(index='type_detail', values='error', columns='year',aggfunc='mean').T.round(1).fillna('')\n",
    ")"
   ]
  },
  {
   "cell_type": "markdown",
   "metadata": {},
   "source": [
    "## And how about Senate, House, Governor, etc...?"
   ]
  },
  {
   "cell_type": "code",
   "execution_count": null,
   "metadata": {},
   "outputs": [],
   "source": [
    "(\n",
    "    polls\n",
    "    .pivot_table(index=['type_simple'], values='error', columns='national',aggfunc='mean')\n",
    "    .round(1)\n",
    "    .fillna('')\n",
    ")\n"
   ]
  },
  {
   "cell_type": "markdown",
   "metadata": {},
   "source": [
    "# Are polls becoming less accurate over time? "
   ]
  },
  {
   "cell_type": "code",
   "execution_count": null,
   "metadata": {},
   "outputs": [],
   "source": [
    "(\n",
    "    polls.query('year%2==0')\n",
    "    .pivot_table(index=['type_simple', 'national'], values='error', columns='year',aggfunc='mean')\n",
    "    .round(1)\n",
    "    .fillna('')\n",
    "    .T\n",
    ")\n"
   ]
  },
  {
   "cell_type": "markdown",
   "metadata": {},
   "source": [
    "# Part 2: Statistical Treatment\n",
    "\n",
    "Statistical treatment can help you get more out of a dataset! Sometimes the polls miss, but have consistent biases one way or another. If we can detect these patterns, we can correct for them and get more out of the data. Here is one example of how. Let's take a look at what we know about each pollster"
   ]
  },
  {
   "cell_type": "markdown",
   "metadata": {},
   "source": [
    "- Pollster Ratings: https://projects.fivethirtyeight.com/pollster-ratings/\n",
    "- Methodology: https://fivethirtyeight.com/features/how-fivethirtyeight-calculates-pollster-ratings/\n",
    "- Latest Update: https://fivethirtyeight.com/features/the-state-of-the-polls-2019/"
   ]
  },
  {
   "cell_type": "code",
   "execution_count": null,
   "metadata": {},
   "outputs": [],
   "source": [
    "pollster_ratings = pd.read_csv('pollster-ratings.csv').set_index('Pollster Rating ID')\n",
    "pollster_ratings.head()"
   ]
  },
  {
   "attachments": {},
   "cell_type": "markdown",
   "metadata": {},
   "source": [
    "> **Mean-Reverted Bias** - A pollster's historical average statistical bias toward Democratic or Republican candidates, reverted to a mean of zero based on the number of polls in the database. A score of \"R +1.5\", for example, indicates that the pollster has historically overrated the performance of the Republican candidate."
   ]
  },
  {
   "cell_type": "code",
   "execution_count": null,
   "metadata": {},
   "outputs": [],
   "source": [
    "# Append grade\n",
    "polls['grade'] = polls.pollster_rating_id.apply(lambda x: pollster_ratings.loc[x]['538 Grade'] if x in pollster_ratings.index else None)\n",
    "\n",
    "# Append MRB and chnage it to an integer value\n",
    "polls['mrb'] = polls.pollster_rating_id.apply(lambda x: pollster_ratings.loc[x]['Mean-Reverted Bias'] if x in pollster_ratings.index else None)\n",
    "# reverse polarity to match above charts where D is left (-) and R is right (+)\n",
    "# polls['mrb'] = -pd.to_numeric(polls['mrb'].str.replace('D +', '', regex=False).str.replace('R +', '-', regex=False))\n",
    "\n",
    "# Adjust poll, bias, and error by MRB\n",
    "polls['margin_poll_adjusted'] = polls['margin_poll'] - polls['mrb']\n",
    "polls['bias_adjusted'] = polls.margin_poll_adjusted - polls.margin_actual\n",
    "polls['error_adjusted'] = np.abs(polls.margin_poll_adjusted - polls.margin_actual)"
   ]
  },
  {
   "cell_type": "code",
   "execution_count": null,
   "metadata": {},
   "outputs": [],
   "source": [
    "# Select all state and national polls\n",
    "pres_polls_national = polls.query(\"type_detail=='Pres-G' and location=='US'\")\n",
    "pres_polls_by_state = polls.query(\"type_detail=='Pres-G' and location!='US'\")"
   ]
  },
  {
   "cell_type": "markdown",
   "metadata": {},
   "source": [
    "Let's look at some polls now! What do they look like with this insight applied? "
   ]
  },
  {
   "cell_type": "code",
   "execution_count": null,
   "metadata": {},
   "outputs": [],
   "source": [
    "pres_polls_national.query('year==2016').sample(3)"
   ]
  },
  {
   "cell_type": "markdown",
   "metadata": {},
   "source": [
    "And in the aggregate for 2016? What about for other races? Other years?"
   ]
  },
  {
   "cell_type": "code",
   "execution_count": null,
   "metadata": {},
   "outputs": [],
   "source": [
    "pres_polls_national.query('year==2016')\\\n",
    "    [['year', 'location', 'pollster', 'error', 'error_adjusted', 'bias', 'bias_adjusted']]\\\n",
    "    .groupby('year').mean().round(1)"
   ]
  },
  {
   "cell_type": "markdown",
   "metadata": {},
   "source": [
    "What about at the state level?"
   ]
  },
  {
   "cell_type": "code",
   "execution_count": null,
   "metadata": {},
   "outputs": [],
   "source": [
    "pres_polls_by_state.query('year==2016')\\\n",
    "    [['year', 'location', 'pollster', 'error', 'error_adjusted', 'bias', 'bias_adjusted']]\\\n",
    "    .groupby('year').mean().round(1)"
   ]
  },
  {
   "cell_type": "markdown",
   "metadata": {},
   "source": [
    "Let's see what this means for national polls by pollster"
   ]
  },
  {
   "cell_type": "code",
   "execution_count": null,
   "metadata": {},
   "outputs": [],
   "source": [
    "pres_polls_national.query(\"year==2016\")\\\n",
    "    [['year', 'location', 'pollster', 'error', 'error_adjusted']]\\\n",
    "    .groupby('pollster').agg(['mean', 'count'])\\\n",
    "    .sort_values(by=('error_adjusted', 'count'), ascending=False)\\\n",
    "    .drop([('year', 'count'), ('error', 'count')], axis=1)"
   ]
  },
  {
   "cell_type": "markdown",
   "metadata": {},
   "source": [
    "Lets look at a few particular cases. Hawaii, or Washington D.C. for example."
   ]
  },
  {
   "cell_type": "code",
   "execution_count": null,
   "metadata": {},
   "outputs": [],
   "source": [
    "pres_polls_by_state.query(\"year==2016 and location=='HI'\")\\\n",
    "    [['pollster', 'grade', 'margin_actual', 'margin_poll', 'margin_poll_adjusted', 'mrb', 'bias', 'bias_adjusted']]"
   ]
  },
  {
   "cell_type": "markdown",
   "metadata": {},
   "source": [
    "Uh oh, what happened here? \n",
    "\n",
    "Beware of \"unskewing\" polls. Statistical treatments don't necessarily improve each individual poll result. But on average, when incoporated into your analysis they will help you get more information from the aggregate of your data.\n",
    "\n",
    "Still, in the aggregate, you're better off looking at an adjusted average of the polls. Also, this is only one statsitical treatment! Remember how Hawaii polls tend to underestimate how well Democrats will do? We have adjusted for the pollster's average bias, but have not accounted for factors like that. And there are so many other things to consider! "
   ]
  },
  {
   "cell_type": "markdown",
   "metadata": {},
   "source": [
    "# Election Forecast Models\n",
    "\n",
    "Let's talk about our election forecasts, which apply a lot of statistical treatments based on what we know about the nature of politics and political data in the U.S.\n",
    "\n",
    "\n",
    "## Forecasts\n",
    "\n",
    "### 2020 Forecast\n",
    "\n",
    "- Forecast: https://projects.fivethirtyeight.com/2020-election-forecast/\n",
    "- Methodology: https://fivethirtyeight.com/features/how-fivethirtyeights-2020-presidential-forecast-works-and-whats-different-because-of-covid-19/\n",
    "\n",
    "\n",
    "### 2016 Forecast\n",
    "\n",
    "- Forecast: https://projects.fivethirtyeight.com/2016-election-forecast/\n",
    "- Methodology: https://fivethirtyeight.com/features/a-users-guide-to-fivethirtyeights-2016-general-election-forecast/\n",
    "- Analysis: https://projects.fivethirtyeight.com/2016-election-forecast/articles/?ex_cid=2016-forecast\n",
    "\n",
    "### 2018 Forecast\n",
    "\n",
    "- https://projects.fivethirtyeight.com/2018-midterm-election-forecast/senate\n",
    "- https://projects.fivethirtyeight.com/2018-midterm-election-forecast/house\n"
   ]
  },
  {
   "cell_type": "markdown",
   "metadata": {},
   "source": [
    "## Polls Stories from 2016\n",
    "\n",
    "These help elucidate how we turn analysis, like what you just did above, into insights for our readers.\n",
    "\n",
    "- https://fivethirtyeight.com/features/how-much-the-polls-missed-by-in-every-state/\n",
    "- https://fivethirtyeight.com/features/pollsters-probably-didnt-talk-to-enough-white-voters-without-college-degrees/\n",
    "- https://fivethirtyeight.com/features/what-a-difference-2-percentage-points-makes/\n",
    "- https://fivethirtyeight.com/features/shy-voters-probably-arent-why-the-polls-missed-trump/\n",
    "- https://fivethirtyeight.com/features/the-polls-missed-trump-we-asked-pollsters-why/\n",
    "- https://fivethirtyeight.com/features/why-fivethirtyeight-gave-trump-a-better-chance-than-almost-anyone-else/\n",
    "- https://fivethirtyeight.com/features/the-polls-are-all-right/\n",
    "- https://fivethirtyeight.com/features/trump-is-just-a-normal-polling-error-behind-clinton/\n",
    "\n",
    "\n",
    "\n",
    "## Some other folks\n",
    "\n",
    "- [CNN](https://www.cnn.com/election/2018/forecast)\n",
    "- [Daily Kos](https://elections.dailykos.com/)\n",
    "- [New York Times - Real Time Polling!](https://www.nytimes.com/interactive/2018/upshot/elections-polls.html)\n"
   ]
  },
  {
   "cell_type": "markdown",
   "metadata": {},
   "source": [
    "# Visualizing Uncertainty\n",
    "\n",
    "- FiveThirtyEight in [2010](https://www.nytimes.com/elections/2010/forecasts/senate.html), [2014](https://fivethirtyeight.com/interactives/senate-forecast/), [2016](https://projects.fivethirtyeight.com/2016-election-forecast/), [2018](https://projects.fivethirtyeight.com/2018-midterm-election-forecast/house/)\n",
    "    * I think 2010 still works in Safari...\n",
    "- New York Times\n",
    "    * The Spinners https://www.nytimes.com/2014/11/01/upshot/how-confirmation-bias-can-lead-to-a-spinning-of-wheels.html\n",
    "    * The Needle https://www.youtube.com/watch?v=iq5rW6zYeP4\n",
    "- [Huffpost's](http://elections.huffingtonpost.com/pollster) custom charts.\n",
    "\n"
   ]
  }
 ],
 "metadata": {
  "kernelspec": {
   "display_name": "Python 3 (ipykernel)",
   "language": "python",
   "name": "python3"
  },
  "language_info": {
   "codemirror_mode": {
    "name": "ipython",
    "version": 3
   },
   "file_extension": ".py",
   "mimetype": "text/x-python",
   "name": "python",
   "nbconvert_exporter": "python",
   "pygments_lexer": "ipython3",
   "version": "3.9.5"
  }
 },
 "nbformat": 4,
 "nbformat_minor": 2
}
